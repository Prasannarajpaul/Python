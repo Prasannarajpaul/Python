{
 "cells": [
  {
   "cell_type": "markdown",
   "metadata": {},
   "source": [
    "#### What is Statistics and its Applications?\n",
    "\n",
    "Statistics is a field that deals with collection, organisation, analysis, interpretation and presentation of the data\n",
    "\n",
    "Decision Making\n",
    "\n",
    "Eg. Age = {24, 27, 14, 13, 28, 29, 31, 32} - feature (of online shoping)\n",
    "\n",
    "mean, median, distribution\n",
    "\n",
    "Create Charts and Graphs\n",
    "Histogram, PDF, CDF"
   ]
  }
 ],
 "metadata": {
  "language_info": {
   "name": "python"
  }
 },
 "nbformat": 4,
 "nbformat_minor": 2
}
