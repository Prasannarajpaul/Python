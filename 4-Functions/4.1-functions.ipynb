{
 "cells": [
  {
   "cell_type": "markdown",
   "metadata": {},
   "source": [
    "Function\n",
    "\n",
    "A function is a block of code that performs a specific task. Functions help in organizing code, reusing code, and improving readability\n"
   ]
  },
  {
   "cell_type": "code",
   "execution_count": 1,
   "metadata": {},
   "outputs": [],
   "source": [
    "## Syntax\n",
    "def function_name(parameters):\n",
    "    \"\"\"Docstring\"\"\" # Used to write what this function do\n",
    "    # Function body\n",
    "    return expression"
   ]
  },
  {
   "cell_type": "code",
   "execution_count": 2,
   "metadata": {},
   "outputs": [
    {
     "name": "stdout",
     "output_type": "stream",
     "text": [
      "Even\n"
     ]
    }
   ],
   "source": [
    "## Why function\n",
    "num = 24\n",
    "if num%2==0:\n",
    "    print(\"Even\")\n",
    "else:\n",
    "    print(\"Odd\")"
   ]
  },
  {
   "cell_type": "code",
   "execution_count": 4,
   "metadata": {},
   "outputs": [
    {
     "name": "stdout",
     "output_type": "stream",
     "text": [
      "Even\n",
      "Odd\n",
      "Even\n",
      "Odd\n"
     ]
    }
   ],
   "source": [
    "def even_or_odd(num):\n",
    "    \"\"\"This function performs even or odd\"\"\"\n",
    "    if num%2==0:\n",
    "        print(\"Even\")\n",
    "    else:\n",
    "        print(\"Odd\")\n",
    "\n",
    "even_or_odd(2)\n",
    "even_or_odd(3)\n",
    "even_or_odd(28)\n",
    "even_or_odd(19)"
   ]
  },
  {
   "cell_type": "code",
   "execution_count": 6,
   "metadata": {},
   "outputs": [
    {
     "name": "stdout",
     "output_type": "stream",
     "text": [
      "7\n",
      "32\n",
      "168\n"
     ]
    }
   ],
   "source": [
    "## function with multiple parameters\n",
    "def add(a, b):\n",
    "    \"\"\"Add two variables a and b\"\"\"\n",
    "    return a+b\n",
    "print(add(2, 5))\n",
    "print(add(13, 19))\n",
    "print(add(101, 67))"
   ]
  },
  {
   "cell_type": "code",
   "execution_count": 9,
   "metadata": {},
   "outputs": [
    {
     "name": "stdout",
     "output_type": "stream",
     "text": [
      "Hello  Human Welcome to the Data Science\n",
      "Hello  Prasanna Welcome to the Data Science\n"
     ]
    }
   ],
   "source": [
    "## Default Parameters\n",
    "def greet(name=\"Human\"):\n",
    "    print(f\"Hello  {name} Welcome to the Data Science\")\n",
    "\n",
    "greet() # No parameters\n",
    "greet(\"Prasanna\")\n"
   ]
  },
  {
   "cell_type": "code",
   "execution_count": 13,
   "metadata": {},
   "outputs": [
    {
     "name": "stdout",
     "output_type": "stream",
     "text": [
      "1\n",
      "2\n",
      "3\n",
      "4\n",
      "5\n",
      "6\n",
      "7\n",
      "8\n",
      "9\n",
      "10\n"
     ]
    }
   ],
   "source": [
    "## Variable Length Arguments\n",
    "## Positional and Keyword Arguments\n",
    "\n",
    "# Postional Arguments - for any number of arguments\n",
    "def print_numbers(*args):\n",
    "    for number in args:\n",
    "        print(number)\n",
    "\n",
    "print_numbers(1, 2, 3 ,4, 5, 6, 7, 8, 9, 10)"
   ]
  },
  {
   "cell_type": "code",
   "execution_count": 15,
   "metadata": {},
   "outputs": [
    {
     "name": "stdout",
     "output_type": "stream",
     "text": [
      "name: Prasanna\n",
      "age: 32\n",
      "country: India\n"
     ]
    }
   ],
   "source": [
    "# Key-word Arguments - All the parameters are in key-value arguments\n",
    "def print_details(**kwargs):\n",
    "    for key, value in kwargs.items():  #Like Dictionaries\n",
    "        print(f\"{key}: {value}\")\n",
    "\n",
    "print_details(name=\"Prasanna\", age=\"32\", country=\"India\")\n"
   ]
  },
  {
   "cell_type": "code",
   "execution_count": 17,
   "metadata": {},
   "outputs": [
    {
     "name": "stdout",
     "output_type": "stream",
     "text": [
      "Positional Arguments:\n",
      "1\n",
      "2\n",
      "3\n",
      "4\n",
      "5\n",
      "Key-word Arguments:\n",
      "name: prasanna\n",
      "age: 32\n",
      "country: India\n"
     ]
    }
   ],
   "source": [
    "## Combining Both of Them\n",
    "def print_detail(*args, **kwargs):\n",
    "    print(\"Positional Arguments:\")\n",
    "    for val in args:\n",
    "        print(f\"{val}\")\n",
    "    print(\"Key-word Arguments:\")\n",
    "    for key, value in kwargs.items():\n",
    "        print(f\"{key}: {value}\")\n",
    "\n",
    "print_detail(1, 2, 3, 4, 5, name=\"prasanna\", age=\"32\", country=\"India\")\n"
   ]
  },
  {
   "cell_type": "code",
   "execution_count": 18,
   "metadata": {},
   "outputs": [
    {
     "data": {
      "text/plain": [
       "(2, 3, 6)"
      ]
     },
     "execution_count": 18,
     "metadata": {},
     "output_type": "execute_result"
    }
   ],
   "source": [
    "## Return Statement\n",
    "def multiply(a, b):\n",
    "    return a, b, a*b # In python, we can return multiple parameters\n",
    "multiply(2, 3)"
   ]
  }
 ],
 "metadata": {
  "kernelspec": {
   "display_name": "Python 3",
   "language": "python",
   "name": "python3"
  },
  "language_info": {
   "codemirror_mode": {
    "name": "ipython",
    "version": 3
   },
   "file_extension": ".py",
   "mimetype": "text/x-python",
   "name": "python",
   "nbconvert_exporter": "python",
   "pygments_lexer": "ipython3",
   "version": "3.10.0"
  }
 },
 "nbformat": 4,
 "nbformat_minor": 2
}
