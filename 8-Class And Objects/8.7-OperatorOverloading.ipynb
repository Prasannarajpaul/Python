{
 "cells": [
  {
   "cell_type": "markdown",
   "metadata": {},
   "source": [
    "#### Operator Overloading\n",
    "\n",
    "Operator overloading allows you to define the behavior of operators (+, -, *, etc.) for custom objects. You achieve this by overriding specific magic methods in your class."
   ]
  },
  {
   "cell_type": "markdown",
   "metadata": {},
   "source": [
    "#### Common Operator Overloading Magic Methods\n",
    "\n",
    "- `__add__(self, other)`: Adds two objects using the + operator.\n",
    "- `__sub__(self, other)`: Subtracts two objects using the - operator\n",
    "- `__mul__(self, other)`: Multiplies two objects using the * operator\n",
    "- `__truediv__(self, other)`: Divides two objects using the / operator\n",
    "- `__eq__(self, other)`: Checks if two objects are equal using the == operator\n",
    "- `__lt__(self, other)__`: Checks if one object is less than another using the < operator\n",
    "- `__gt__(self, other)__`: Checks if one object is greater than another using the > operator"
   ]
  },
  {
   "cell_type": "code",
   "execution_count": 1,
   "metadata": {},
   "outputs": [
    {
     "data": {
      "text/plain": [
       "2"
      ]
     },
     "execution_count": 1,
     "metadata": {},
     "output_type": "execute_result"
    }
   ],
   "source": [
    "1+1"
   ]
  },
  {
   "cell_type": "code",
   "execution_count": 2,
   "metadata": {},
   "outputs": [
    {
     "data": {
      "text/plain": [
       "0"
      ]
     },
     "execution_count": 2,
     "metadata": {},
     "output_type": "execute_result"
    }
   ],
   "source": [
    "1-1"
   ]
  },
  {
   "cell_type": "code",
   "execution_count": 3,
   "metadata": {},
   "outputs": [
    {
     "data": {
      "text/plain": [
       "True"
      ]
     },
     "execution_count": 3,
     "metadata": {},
     "output_type": "execute_result"
    }
   ],
   "source": [
    "12>6"
   ]
  },
  {
   "cell_type": "code",
   "execution_count": null,
   "metadata": {},
   "outputs": [],
   "source": [
    "# Overriding the above functions"
   ]
  },
  {
   "cell_type": "code",
   "execution_count": 4,
   "metadata": {},
   "outputs": [],
   "source": [
    "## Vector Class - Created for mathematical operations for vectors (currently not available)\n",
    "class Vector:\n",
    "    def __init__(self, x, y):\n",
    "        self.x = x\n",
    "        self.y = y\n",
    "    \n",
    "    def __add__(self, other):\n",
    "        return Vector(self.x + other.x, self.y + other.y)\n",
    "    def __sub__(self, other):\n",
    "        return Vector(self.x - other.x, self.y - other.y)\n",
    "    def __mul__(self, other):\n",
    "        return Vector(self.x * other.x, self.y * other.y)\n",
    "    def __eq__(self, other):\n",
    "        return self.x == other.x and self.y == other.y\n",
    "    def __repr__(self):\n",
    "        return f\"Vector({self.x}, {self.y})\"\n"
   ]
  },
  {
   "cell_type": "code",
   "execution_count": 5,
   "metadata": {},
   "outputs": [],
   "source": [
    "## Vector Class Objects\n",
    "v1 = Vector(2, 3)\n",
    "v2 = Vector(4, 5)"
   ]
  },
  {
   "cell_type": "code",
   "execution_count": 6,
   "metadata": {},
   "outputs": [
    {
     "name": "stdout",
     "output_type": "stream",
     "text": [
      "Vector(6, 8)\n"
     ]
    }
   ],
   "source": [
    "print(v1+v2)"
   ]
  },
  {
   "cell_type": "code",
   "execution_count": 9,
   "metadata": {},
   "outputs": [
    {
     "name": "stdout",
     "output_type": "stream",
     "text": [
      "Vector(-2, -2)\n"
     ]
    }
   ],
   "source": [
    "print(v1-v2)"
   ]
  },
  {
   "cell_type": "code",
   "execution_count": 10,
   "metadata": {},
   "outputs": [
    {
     "name": "stdout",
     "output_type": "stream",
     "text": [
      "Vector(8, 15)\n"
     ]
    }
   ],
   "source": [
    "print(v1*v2)"
   ]
  },
  {
   "cell_type": "code",
   "execution_count": 7,
   "metadata": {},
   "outputs": [
    {
     "name": "stdout",
     "output_type": "stream",
     "text": [
      "Vector(2, 3)\n",
      "Vector(4, 5)\n"
     ]
    }
   ],
   "source": [
    "print(v1)\n",
    "print(v2)"
   ]
  },
  {
   "cell_type": "code",
   "execution_count": 8,
   "metadata": {},
   "outputs": [
    {
     "name": "stdout",
     "output_type": "stream",
     "text": [
      "False\n"
     ]
    }
   ],
   "source": [
    "print(v1==v2)"
   ]
  },
  {
   "cell_type": "code",
   "execution_count": null,
   "metadata": {},
   "outputs": [],
   "source": [
    "## Overloading Operators for Complex Numbers"
   ]
  },
  {
   "cell_type": "code",
   "execution_count": 4,
   "metadata": {},
   "outputs": [],
   "source": [
    "class ComplexNumber:\n",
    "    def __init__(self, real, imag):\n",
    "        self.real = real\n",
    "        self.imag = imag\n",
    "    \n",
    "    def __add__(self, other):\n",
    "        return ComplexNumber(self.real + other.real, self.imag + other.imag)\n",
    "\n",
    "    def __sub__(self, other):\n",
    "        return ComplexNumber(self.real - other.real, self.imag - other.imag)\n",
    "    def __mul__(self, other):\n",
    "        real_part = self.real * other.real - self.imag * other.imag\n",
    "        imag_part = self.real * other.imag - self.imag * other.real\n",
    "        return ComplexNumber(real_part, imag_part)\n",
    "    def __truediv__(self, other):\n",
    "        denominator = other.real**2 + other.imag**2\n",
    "        real_part = (self.real * other.real + self.imag * other.imag)/denominator\n",
    "        imag_part = (self.real * other.real - self.imag * other.imag)/denominator\n",
    "        return ComplexNumber(real_part, imag_part)\n",
    "    def __eq__(self, other):\n",
    "        return self.real == other.real and self.imag == other.imag\n",
    "    def __repr__(self):\n",
    "        return f\"{self.real} + {self.imag}i\"\n",
    "        "
   ]
  },
  {
   "cell_type": "code",
   "execution_count": 6,
   "metadata": {},
   "outputs": [],
   "source": [
    "c1 = ComplexNumber(2, 3)\n",
    "c2 = ComplexNumber(1, 4)"
   ]
  },
  {
   "cell_type": "code",
   "execution_count": 7,
   "metadata": {},
   "outputs": [
    {
     "name": "stdout",
     "output_type": "stream",
     "text": [
      "3 + 7i\n",
      "1 + -1i\n",
      "-10 + 5i\n",
      "0.8235294117647058 + -0.5882352941176471i\n",
      "False\n"
     ]
    }
   ],
   "source": [
    "print(c1 + c2)\n",
    "print(c1 - c2)\n",
    "print(c1 * c2)\n",
    "print(c1 / c2)\n",
    "print(c1 == c2)"
   ]
  }
 ],
 "metadata": {
  "kernelspec": {
   "display_name": "venv",
   "language": "python",
   "name": "python3"
  },
  "language_info": {
   "codemirror_mode": {
    "name": "ipython",
    "version": 3
   },
   "file_extension": ".py",
   "mimetype": "text/x-python",
   "name": "python",
   "nbconvert_exporter": "python",
   "pygments_lexer": "ipython3",
   "version": "3.10.0"
  }
 },
 "nbformat": 4,
 "nbformat_minor": 2
}
