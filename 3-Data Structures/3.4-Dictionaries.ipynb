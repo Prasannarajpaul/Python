{
 "cells": [
  {
   "cell_type": "markdown",
   "metadata": {},
   "source": [
    "Dictionaries are unordered collections of items. They store data in key-value pairs. Keys must be unique and immutable (e.g., strings, numbers, or tuples), while values can be of any type\n"
   ]
  },
  {
   "cell_type": "code",
   "execution_count": 1,
   "metadata": {},
   "outputs": [
    {
     "name": "stdout",
     "output_type": "stream",
     "text": [
      "<class 'dict'>\n"
     ]
    }
   ],
   "source": [
    "## Creating Dictionaries\n",
    "empty_dict = {}\n",
    "print(type(empty_dict))"
   ]
  },
  {
   "cell_type": "code",
   "execution_count": 2,
   "metadata": {},
   "outputs": [
    {
     "name": "stdout",
     "output_type": "stream",
     "text": [
      "<class 'dict'>\n"
     ]
    }
   ],
   "source": [
    "empty_dict = dict()\n",
    "print(type(empty_dict))"
   ]
  },
  {
   "cell_type": "code",
   "execution_count": 3,
   "metadata": {},
   "outputs": [
    {
     "name": "stdout",
     "output_type": "stream",
     "text": [
      "{'name': 'Prasanna', 'age': 32, 'grade': 24}\n"
     ]
    }
   ],
   "source": [
    "student = {\"name\": \"Prasanna\", \"age\": 32, \"grade\": 24}\n",
    "print(student)"
   ]
  },
  {
   "cell_type": "code",
   "execution_count": 5,
   "metadata": {},
   "outputs": [
    {
     "name": "stdout",
     "output_type": "stream",
     "text": [
      "{'name': 'Gayathri', 'age': 32, 'grade': 24}\n"
     ]
    }
   ],
   "source": [
    "## Keys should be unique else\n",
    "student = {\"name\": \"Prasanna\", \"age\": 32, \"grade\": 24, \"name\": \"Gayathri\"}\n",
    "print(student)"
   ]
  },
  {
   "cell_type": "code",
   "execution_count": 6,
   "metadata": {},
   "outputs": [
    {
     "name": "stdout",
     "output_type": "stream",
     "text": [
      "Gayathri\n",
      "32\n",
      "24\n"
     ]
    }
   ],
   "source": [
    "## Accessing Dictionary Elements - Method-1\n",
    "print(student['name'])\n",
    "print(student['age'])\n",
    "print(student['grade'])"
   ]
  },
  {
   "cell_type": "code",
   "execution_count": 7,
   "metadata": {},
   "outputs": [
    {
     "name": "stdout",
     "output_type": "stream",
     "text": [
      "24\n",
      "None\n"
     ]
    }
   ],
   "source": [
    "## Method-2\n",
    "print(student.get('grade'))\n",
    "print(student.get('lastname')) # if no value then it returns None"
   ]
  },
  {
   "cell_type": "code",
   "execution_count": 8,
   "metadata": {},
   "outputs": [
    {
     "name": "stdout",
     "output_type": "stream",
     "text": [
      "Not Available\n"
     ]
    }
   ],
   "source": [
    "\n",
    "print(student.get('last_name', \"Not Available\"))\n"
   ]
  },
  {
   "cell_type": "code",
   "execution_count": 14,
   "metadata": {},
   "outputs": [
    {
     "name": "stdout",
     "output_type": "stream",
     "text": [
      "{'name': 'Prasanna', 'age': 32, 'grade': 24}\n",
      "{'name': 'Prasanna', 'age': 32, 'grade': 'A+'}\n",
      "{'name': 'Prasanna', 'age': 32, 'grade': 'A+', 'address': 'India'}\n",
      "{'name': 'Prasanna', 'age': 32, 'address': 'India'}\n"
     ]
    }
   ],
   "source": [
    "## Modifying Dictionary Elements\n",
    "## Dictionary are mutbale, so you can add, update or delete elements\n",
    "student = {\"name\": \"Prasanna\", \"age\": 32, \"grade\": 24}\n",
    "print(student)\n",
    "## updating\n",
    "student[\"grade\"] = \"A+\"\n",
    "print(student)\n",
    "## adding\n",
    "student[\"address\"] = \"India\"\n",
    "print(student)\n",
    "## deleting\n",
    "del student['grade']\n",
    "print(student)\n"
   ]
  },
  {
   "cell_type": "code",
   "execution_count": 18,
   "metadata": {},
   "outputs": [
    {
     "name": "stdout",
     "output_type": "stream",
     "text": [
      "dict_keys(['name', 'age', 'address'])\n",
      "dict_values(['Prasanna', 32, 'India'])\n",
      "dict_items([('name', 'Prasanna'), ('age', 32), ('address', 'India')])\n"
     ]
    }
   ],
   "source": [
    "## Dictionary Methods\n",
    "\n",
    "# Keys and Keys\n",
    "keys = student.keys()\n",
    "print(keys)\n",
    "values = student.values()\n",
    "print(values)\n",
    "\n",
    "items = student.items() # List of tuples of all key-value pairs\n",
    "print(items)"
   ]
  },
  {
   "cell_type": "code",
   "execution_count": 21,
   "metadata": {},
   "outputs": [
    {
     "name": "stdout",
     "output_type": "stream",
     "text": [
      "{'name': 'Prasanna', 'age': 32, 'address': 'India'}\n",
      "{'name': 'Prasanna', 'age': 32, 'address': 'India'}\n",
      "{'name': 'Gayathri', 'age': 32, 'address': 'India'}\n",
      "{'name': 'Gayathri', 'age': 32, 'address': 'India'}\n"
     ]
    }
   ],
   "source": [
    "## Shallow copy\n",
    "student_copy = student\n",
    "print(student)\n",
    "print(student_copy)\n",
    "\n",
    "student['name'] = \"Gayathri\"\n",
    "print(student)\n",
    "print(student_copy)\n",
    "# student and student_copy key values are changed\n"
   ]
  },
  {
   "cell_type": "code",
   "execution_count": 22,
   "metadata": {},
   "outputs": [
    {
     "name": "stdout",
     "output_type": "stream",
     "text": [
      "{'name': 'Gayathri', 'age': 32, 'address': 'India'}\n",
      "{'name': 'Gayathri', 'age': 32, 'address': 'India'}\n",
      "{'name': 'Prasanna', 'age': 32, 'address': 'India'}\n",
      "{'name': 'Gayathri', 'age': 32, 'address': 'India'}\n"
     ]
    }
   ],
   "source": [
    "# To prevent this and exactly get the copy, we need to use shallow copy\n",
    "student_copy = student.copy() # Allocates new memory location\n",
    "print(student)\n",
    "print(student_copy)\n",
    "\n",
    "student['name'] = \"Prasanna\"\n",
    "print(student)\n",
    "print(student_copy)"
   ]
  },
  {
   "cell_type": "code",
   "execution_count": null,
   "metadata": {},
   "outputs": [],
   "source": []
  },
  {
   "cell_type": "code",
   "execution_count": null,
   "metadata": {},
   "outputs": [],
   "source": []
  },
  {
   "cell_type": "code",
   "execution_count": null,
   "metadata": {},
   "outputs": [],
   "source": []
  },
  {
   "cell_type": "code",
   "execution_count": null,
   "metadata": {},
   "outputs": [],
   "source": []
  },
  {
   "cell_type": "code",
   "execution_count": null,
   "metadata": {},
   "outputs": [],
   "source": []
  },
  {
   "cell_type": "code",
   "execution_count": null,
   "metadata": {},
   "outputs": [],
   "source": []
  }
 ],
 "metadata": {
  "kernelspec": {
   "display_name": "Python 3",
   "language": "python",
   "name": "python3"
  },
  "language_info": {
   "codemirror_mode": {
    "name": "ipython",
    "version": 3
   },
   "file_extension": ".py",
   "mimetype": "text/x-python",
   "name": "python",
   "nbconvert_exporter": "python",
   "pygments_lexer": "ipython3",
   "version": "3.10.0"
  }
 },
 "nbformat": 4,
 "nbformat_minor": 2
}
