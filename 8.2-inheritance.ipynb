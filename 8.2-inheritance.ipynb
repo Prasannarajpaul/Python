{
 "cells": [
  {
   "cell_type": "markdown",
   "metadata": {},
   "source": [
    "#### Inheritance in Python\n",
    "Inheritance is a fundamental concept in Object-Oriented Programming (OOP) that allows a class to inherit attributes and methods from another class. This lesson covers single inheritance and multiple inheritance, demonstrating how to create and use them in Python."
   ]
  },
  {
   "cell_type": "code",
   "execution_count": 1,
   "metadata": {},
   "outputs": [],
   "source": [
    "## Based on real-world scenario\n",
    "## Inheritance (Single)\n",
    "## Define Parent Class\n",
    "class Car:\n",
    "    # Attributes\n",
    "    def __init__(self, windows, doors, engine_type):\n",
    "        # Properties\n",
    "        self.windows = windows\n",
    "        self.doors = doors\n",
    "        self.engine_type = engine_type\n",
    "    # Methods\n",
    "    def drive(self):\n",
    "        print(f\"The person will drive the {self.engine_type} car\")\n"
   ]
  },
  {
   "cell_type": "code",
   "execution_count": 3,
   "metadata": {},
   "outputs": [
    {
     "name": "stdout",
     "output_type": "stream",
     "text": [
      "The person will drive the Petrol car\n"
     ]
    }
   ],
   "source": [
    "car1 = Car(4, 5, \"Petrol\")\n",
    "car1.drive()"
   ]
  },
  {
   "cell_type": "code",
   "execution_count": 8,
   "metadata": {},
   "outputs": [],
   "source": [
    "class Tesla(Car):\n",
    "    def __init__(self, windows, doors, engine_type, is_selfdriving):\n",
    "        super().__init__(windows, doors, engine_type) # Trying to call parent class and call __init__ from parent class\n",
    "        self.is_selfdriving = is_selfdriving\n",
    "    # Instance Method\n",
    "    def self_drive(self):\n",
    "        print(f\"Tesla supports Self Driving: {self.is_selfdriving}\")\n",
    "\n"
   ]
  },
  {
   "cell_type": "code",
   "execution_count": 9,
   "metadata": {},
   "outputs": [
    {
     "name": "stdout",
     "output_type": "stream",
     "text": [
      "Tesla supports Self Driving: True\n"
     ]
    }
   ],
   "source": [
    "tesla1 = Tesla(4, 5, \"Electric\", True)\n",
    "tesla1.self_drive()"
   ]
  },
  {
   "cell_type": "code",
   "execution_count": 10,
   "metadata": {},
   "outputs": [
    {
     "name": "stdout",
     "output_type": "stream",
     "text": [
      "The person will drive the Electric car\n"
     ]
    }
   ],
   "source": [
    "tesla1.drive()"
   ]
  },
  {
   "cell_type": "code",
   "execution_count": 11,
   "metadata": {},
   "outputs": [],
   "source": [
    "## Inheritance (Multiple)\n",
    "## When a class inherits from more than one base class\n",
    "\n",
    "# Base Class 1\n",
    "class Animal:\n",
    "    def __init__(self, name):\n",
    "        self.name = name\n",
    "    def speak(self):\n",
    "        print(\"Subclasses must implement this method\")\n",
    "\n",
    "# Base Class 2\n",
    "class Pet:\n",
    "    def __init__(self, owner):\n",
    "        self.owner = owner\n",
    "\n",
    "# Child Class\n",
    "class Dog(Animal, Pet):\n",
    "    def __init__(self, name, owner):\n",
    "        Animal.__init__(self, name)   # Instead of super we can use base class\n",
    "        Pet.__init__(self, owner)\n",
    "    def speak(self):\n",
    "        return f\"{self.name} says woof\"\n",
    "    \n"
   ]
  },
  {
   "cell_type": "code",
   "execution_count": 14,
   "metadata": {},
   "outputs": [
    {
     "name": "stdout",
     "output_type": "stream",
     "text": [
      "Name: Browny\n",
      "Owner: Prasanna\n"
     ]
    }
   ],
   "source": [
    "dog1 = Dog(\"Browny\", \"Prasanna\")\n",
    "dog1.speak()\n",
    "\n",
    "print(f\"Name: {dog1.name}\")\n",
    "print(f\"Owner: {dog1.owner}\")\n"
   ]
  },
  {
   "cell_type": "code",
   "execution_count": null,
   "metadata": {},
   "outputs": [],
   "source": []
  }
 ],
 "metadata": {
  "kernelspec": {
   "display_name": "venv",
   "language": "python",
   "name": "python3"
  },
  "language_info": {
   "codemirror_mode": {
    "name": "ipython",
    "version": 3
   },
   "file_extension": ".py",
   "mimetype": "text/x-python",
   "name": "python",
   "nbconvert_exporter": "python",
   "pygments_lexer": "ipython3",
   "version": "3.10.0"
  }
 },
 "nbformat": 4,
 "nbformat_minor": 2
}
