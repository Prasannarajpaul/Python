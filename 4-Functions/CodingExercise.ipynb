{
 "cells": [
  {
   "cell_type": "markdown",
   "metadata": {},
   "source": [
    "#### Celsius To Fahrenheit\n",
    "Problem Description:\n",
    "You are given a temperature in Celsius. Your task is to convert it to Fahrenheit and return the result.\n",
    "\n",
    "Formula:\n",
    "To convert Celsius to Fahrenheit, use the formula:\n",
    "F = (9/5 * C) + 32\n",
    "\n",
    "Where F is the temperature in Fahrenheit and C is the temperature in Celsius.\n",
    "\n",
    "Input:\n",
    "A floating-point number C representing the temperature in Celsius.\n",
    "\n",
    "Output:\n",
    "A floating-point number representing the temperature in Fahrenheit.\n",
    "\n",
    "Example:\n",
    "\n",
    "Input: C = 25\n",
    "Output: 77.0\n",
    " \n",
    "Input: C = 0\n",
    "Output: 32.0"
   ]
  },
  {
   "cell_type": "code",
   "execution_count": 2,
   "metadata": {},
   "outputs": [],
   "source": [
    "def celsius_to_fahrenheit(C):\n",
    "    \"\"\"\n",
    "    Function to convert temperature from Celsius to Fahrenheit.\n",
    "    \n",
    "    Parameters:\n",
    "    C (float): The temperature in Celsius.\n",
    "    \n",
    "    Returns:\n",
    "    float: The temperature in Fahrenheit.\n",
    "    \"\"\"\n",
    "    # Your code here\n",
    "    return ((9/5)*C) +32\n"
   ]
  },
  {
   "cell_type": "code",
   "execution_count": 3,
   "metadata": {},
   "outputs": [
    {
     "name": "stdout",
     "output_type": "stream",
     "text": [
      "77.0\n",
      "32.0\n"
     ]
    }
   ],
   "source": [
    "## Test Cases:\n",
    "case1=celsius_to_fahrenheit(25)\n",
    "case2=celsius_to_fahrenheit(0)\n",
    "print(case1)\n",
    "print(case2)"
   ]
  },
  {
   "cell_type": "markdown",
   "metadata": {},
   "source": [
    "#### Area of a Rectangle\n",
    "Problem Description:\n",
    "You are given the length and breadth of a rectangle. Your task is to compute and return the area of the rectangle.\n",
    "\n",
    "Formula:\n",
    "To calculate the area of a rectangle: Area=length×breadth\n",
    "\n",
    "Input:\n",
    "Two floating-point numbers, length and breadth, representing the dimensions of the rectangle.\n",
    "\n",
    "Output:\n",
    "A floating-point number representing the area of the rectangle.\n",
    "\n",
    "Example:\n",
    "\n",
    "Input: length = 5, breadth = 3\n",
    "Output: 15.0\n",
    " \n",
    "Input: length = 7.5, breadth = 2.4\n",
    "Output: 18.0"
   ]
  },
  {
   "cell_type": "code",
   "execution_count": 4,
   "metadata": {},
   "outputs": [],
   "source": [
    "def area_of_rectangle(length, breadth):\n",
    "    \"\"\"\n",
    "    Function to calculate the area of a rectangle.\n",
    "    \n",
    "    Parameters:\n",
    "    length (float): The length of the rectangle.\n",
    "    breadth (float): The breadth of the rectangle.\n",
    "    \n",
    "    Returns:\n",
    "    float: The area of the rectangle.\n",
    "    \"\"\"\n",
    "    # Your code here\n",
    "    return length*breadth\n"
   ]
  },
  {
   "cell_type": "code",
   "execution_count": 6,
   "metadata": {},
   "outputs": [
    {
     "name": "stdout",
     "output_type": "stream",
     "text": [
      "15\n",
      "18.0\n"
     ]
    }
   ],
   "source": [
    "## Test Cases:\n",
    "case1=area_of_rectangle(5, 3)\n",
    "case2=area_of_rectangle(7.5, 2.4)\n",
    "print(case1)\n",
    "print(case2)"
   ]
  },
  {
   "cell_type": "markdown",
   "metadata": {},
   "source": [
    "#### Distance Covered by a Vehicle\n",
    "Problem Description:\n",
    "You are given the speed of a vehicle and the time it has traveled. Your task is to compute and return the distance traveled by the vehicle.\n",
    "\n",
    "Formula:\n",
    "To calculate the distance traveled by a vehicle:\n",
    "\n",
    "Distance=Speed×Time\n",
    "\n",
    "Input:\n",
    "\n",
    "Two floating-point numbers, speed and time, representing the speed of the vehicle and the time it has been traveling.\n",
    "\n",
    "Output:\n",
    "\n",
    "A floating-point number representing the distance traveled.\n",
    "\n",
    "Example:\n",
    "\n",
    "Input: speed = 60, time = 2\n",
    "Output: 120.0\n",
    " \n",
    "Input: speed = 50.5, time = 1.5\n",
    "Output: 75.75"
   ]
  },
  {
   "cell_type": "code",
   "execution_count": 7,
   "metadata": {},
   "outputs": [],
   "source": [
    "def calculate_distance(speed, time):\n",
    "    \"\"\"\n",
    "    Function to calculate the distance traveled by a vehicle.\n",
    "    \n",
    "    Parameters:\n",
    "    speed (float): The speed of the vehicle.\n",
    "    time (float): The time the vehicle has traveled.\n",
    "    \n",
    "    Returns:\n",
    "    float: The distance traveled by the vehicle.\n",
    "    \"\"\"\n",
    "    # Your code here\n",
    "    return speed*time\n"
   ]
  },
  {
   "cell_type": "code",
   "execution_count": 8,
   "metadata": {},
   "outputs": [
    {
     "name": "stdout",
     "output_type": "stream",
     "text": [
      "120\n",
      "75.75\n"
     ]
    }
   ],
   "source": [
    "## Test Cases:\n",
    "case1=calculate_distance(60, 2)\n",
    "case2=calculate_distance(50.5, 1.5)\n",
    "print(case1)\n",
    "print(case2)"
   ]
  }
 ],
 "metadata": {
  "kernelspec": {
   "display_name": "Python 3",
   "language": "python",
   "name": "python3"
  },
  "language_info": {
   "codemirror_mode": {
    "name": "ipython",
    "version": 3
   },
   "file_extension": ".py",
   "mimetype": "text/x-python",
   "name": "python",
   "nbconvert_exporter": "python",
   "pygments_lexer": "ipython3",
   "version": "3.10.0"
  }
 },
 "nbformat": 4,
 "nbformat_minor": 2
}
