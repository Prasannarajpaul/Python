{
 "cells": [
  {
   "cell_type": "markdown",
   "metadata": {},
   "source": [
    "Multi Threading and Multi Processing\n",
    "- Program\n",
    "- Process\n",
    "- Threads\n",
    "- Examples of Process and Thread"
   ]
  },
  {
   "cell_type": "markdown",
   "metadata": {},
   "source": [
    "#### Program\n",
    "A program is a sequence of Instructions written in Programming Language [eg: Python, C++]\n",
    "\n",
    "Eg: Google Chrome is a .exe file\n",
    "    .exe is a program we write how a browser should work\n",
    "Eg: Word, Excel are different Programs"
   ]
  },
  {
   "cell_type": "markdown",
   "metadata": {},
   "source": [
    "#### Process\n",
    "\n",
    "A process is simple an instance of a program that is being executed\n",
    "\n",
    "Eg: If I open Google Chrome, it opens which is an instance of executing the program\n",
    "\n",
    "- Process works along with OS as it requires a lot of computer resources, those resources will be shared. Some of the resources are \n",
    "\n",
    " Code Segment | Data Segment | Heap \n",
    " :--: | :--: | :--: \n",
    " Stack | Register | Register \n",
    "\n",
    "##### Separate Memory Space\n",
    "When we run a process, it will have a separate memory space.\n",
    "one process cannot currupt another process, because every (process will have separate memory space for its running)\n",
    "##### I/O Requirements\n",
    "If the process requires some input or output then it makes the execution time increases to switch between processes\n",
    "\n",
    "Example:\n",
    "Excel -> opens -> process will start with an ID\n",
    "Chrome -> opens -> process will start with an ID\n",
    "\n",
    "We can see current running process in task manager\n"
   ]
  },
  {
   "cell_type": "markdown",
   "metadata": {},
   "source": [
    "#### Thread\n",
    "A thread is a unit of the execution within the process\n",
    "\n",
    "Single Threaded Process:\n",
    "This thread have its own stack and register but it will be sharing the code segment, data segment and heap.\n",
    "\n",
    "Eg:\n",
    "In MS Paint I want to open and create an rectangle box\n",
    "MS Paint -> opened a process\n",
    "select an option and draw rectangle -> a thread \n",
    "select an option and draw circle -> a thread \n",
    "\n",
    "Multi Threaded Process:\n",
    "Thread1 its own stack and registers\n",
    "Thread2 its own stack and registers\n",
    "Both shares all Code segment, Data Segment and Heap."
   ]
  }
 ],
 "metadata": {
  "kernelspec": {
   "display_name": "Python 3",
   "language": "python",
   "name": "python3"
  },
  "language_info": {
   "name": "python",
   "version": "3.12.0"
  }
 },
 "nbformat": 4,
 "nbformat_minor": 2
}
