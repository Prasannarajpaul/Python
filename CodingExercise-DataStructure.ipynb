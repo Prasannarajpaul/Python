{
 "cells": [
  {
   "cell_type": "markdown",
   "metadata": {},
   "source": [
    "#### Sum of List Elements\n",
    "Problem Description: Sum of List Elements\n",
    "\n",
    "Write a Python function that calculates the sum of all elements in a given list of integers.\n",
    "\n",
    "Parameters:\n",
    "\n",
    "numbers (List of integers): The input list containing integers.\n",
    "\n",
    "Returns:\n",
    "\n",
    "An integer representing the sum of all elements in the input list.\n",
    "\n",
    "Example:\n",
    "\n",
    "Input: numbers = [1, 2, 3, 4, 5]\n",
    "Output: 15\n",
    "\n",
    "Input: numbers = [10, -5, 7, 8, -2]\n",
    "Output: 18"
   ]
  },
  {
   "cell_type": "code",
   "execution_count": 1,
   "metadata": {},
   "outputs": [],
   "source": [
    "def sum_list(numbers):\n",
    "    # Your code goes here\n",
    "    sum_of_elements=0\n",
    "    for num in numbers:\n",
    "        sum_of_elements=sum_of_elements+num\n",
    "    return sum_of_elements\n",
    "    pass"
   ]
  },
  {
   "cell_type": "code",
   "execution_count": 2,
   "metadata": {},
   "outputs": [
    {
     "name": "stdout",
     "output_type": "stream",
     "text": [
      "15\n",
      "18\n"
     ]
    }
   ],
   "source": [
    "## Test Cases:\n",
    "case1=sum_list([1, 2, 3, 4, 5])\n",
    "case2=sum_list([10, -5, 7, 8, -2])\n",
    "print(case1)\n",
    "print(case2)"
   ]
  },
  {
   "cell_type": "markdown",
   "metadata": {},
   "source": [
    "#### Largest Element in a List\n",
    "Find the Largest Element in a List\n",
    "\n",
    "Write a Python function that finds and returns the largest element in a given list of integers.\n",
    "\n",
    "Parameters:\n",
    "\n",
    "numbers (List of integers): The input list containing integers.\n",
    "\n",
    "Returns:\n",
    "\n",
    "An integer representing the largest element in the input list.\n",
    "\n",
    "Example:\n",
    "\n",
    "Input: numbers = [3, 8, 2, 10, 5]\n",
    "Output: 10\n",
    "\n",
    "Input: numbers = [-5, -10, -2, -1, -7]\n",
    "Output: -1"
   ]
  },
  {
   "cell_type": "code",
   "execution_count": 3,
   "metadata": {},
   "outputs": [],
   "source": [
    "def find_largest(numbers):\n",
    "    # Your code goes here\n",
    "    largest_element=numbers[0]\n",
    "    for num in numbers:\n",
    "        if num >= largest_element:\n",
    "            largest_element = num\n",
    "    return largest_element        \n",
    "    \n",
    "    pass"
   ]
  },
  {
   "cell_type": "code",
   "execution_count": 4,
   "metadata": {},
   "outputs": [
    {
     "name": "stdout",
     "output_type": "stream",
     "text": [
      "10\n",
      "-1\n"
     ]
    }
   ],
   "source": [
    "## Test Cases:\n",
    "case1=find_largest([3, 8, 2, 10, 5])\n",
    "case2=find_largest([-5, -10, -2, -1, -7])\n",
    "print(case1)\n",
    "print(case2)"
   ]
  }
 ],
 "metadata": {
  "kernelspec": {
   "display_name": "Python 3",
   "language": "python",
   "name": "python3"
  },
  "language_info": {
   "codemirror_mode": {
    "name": "ipython",
    "version": 3
   },
   "file_extension": ".py",
   "mimetype": "text/x-python",
   "name": "python",
   "nbconvert_exporter": "python",
   "pygments_lexer": "ipython3",
   "version": "3.10.0"
  }
 },
 "nbformat": 4,
 "nbformat_minor": 2
}
