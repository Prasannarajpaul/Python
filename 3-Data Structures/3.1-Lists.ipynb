{
 "cells": [
  {
   "cell_type": "code",
   "execution_count": null,
   "metadata": {},
   "outputs": [],
   "source": [
    "# Lists are ordered, mutable collection of items\n",
    "# They can obtain different data types\n"
   ]
  },
  {
   "cell_type": "code",
   "execution_count": 1,
   "metadata": {},
   "outputs": [
    {
     "name": "stdout",
     "output_type": "stream",
     "text": [
      "<class 'list'>\n"
     ]
    }
   ],
   "source": [
    "lst=[]\n",
    "print(type(lst))"
   ]
  },
  {
   "cell_type": "code",
   "execution_count": 2,
   "metadata": {},
   "outputs": [
    {
     "name": "stdout",
     "output_type": "stream",
     "text": [
      "['Prasanna', 'Pranathi', 'Praveen', 'Prasanth']\n"
     ]
    }
   ],
   "source": [
    "names=[\"Prasanna\", \"Pranathi\", \"Praveen\", \"Prasanth\"]\n",
    "print(names)"
   ]
  },
  {
   "cell_type": "code",
   "execution_count": 3,
   "metadata": {},
   "outputs": [
    {
     "name": "stdout",
     "output_type": "stream",
     "text": [
      "[1, 'Hello', 3.14, True]\n"
     ]
    }
   ],
   "source": [
    "mixed_list=[1, \"Hello\", 3.14, True]\n",
    "print(mixed_list)"
   ]
  },
  {
   "cell_type": "code",
   "execution_count": 18,
   "metadata": {},
   "outputs": [
    {
     "name": "stdout",
     "output_type": "stream",
     "text": [
      "Apple\n",
      "Beetroot\n",
      "Carrot\n",
      "Jack Fruit\n"
     ]
    }
   ],
   "source": [
    "# Accessing List Elements\n",
    "fruits=[\"Apple\", \"Amla\", \"Banana\", \"Beetroot\", \"Carrot\", \"Durain\", \"Jack Fruit\"]\n",
    "print(fruits[0])#First element\n",
    "print(fruits[3])\n",
    "print(fruits[4])\n",
    "print(fruits[-1])#Last element\n"
   ]
  },
  {
   "cell_type": "code",
   "execution_count": 17,
   "metadata": {},
   "outputs": [
    {
     "name": "stdout",
     "output_type": "stream",
     "text": [
      "['Amla', 'Banana', 'Beetroot', 'Watermelon', 'Durain', 'Jack Fruit']\n",
      "['Amla', 'Banana']\n",
      "['Apple', 'Amla', 'Banana', 'Beetroot', 'Watermelon', 'Durain']\n"
     ]
    }
   ],
   "source": [
    "#Slicing\n",
    "print(fruits[1:])#From 1 to end\n",
    "print(fruits[1:3])#From 1 to 3\n",
    "print(fruits[:-1])#From start to last\n"
   ]
  },
  {
   "cell_type": "code",
   "execution_count": 21,
   "metadata": {},
   "outputs": [
    {
     "name": "stdout",
     "output_type": "stream",
     "text": [
      "['Apple', 'Amla', 'Banana', 'Beetroot', 'Carrot', 'Watermelon', 'Jack Fruit']\n",
      "['P', 'r', 'a', 's', 'a', 'n', 'n', 'a']\n"
     ]
    }
   ],
   "source": [
    "# Modifying the list elements\n",
    "fruits[5]=\"Watermelon\"\n",
    "print(fruits)\n",
    "\n",
    "#Can create a character list\n",
    "lst[0:]=\"Prasanna\"\n",
    "print(lst)"
   ]
  },
  {
   "cell_type": "code",
   "execution_count": 29,
   "metadata": {},
   "outputs": [],
   "source": [
    "fruits=[\"Apple\", \"Amla\", \"Banana\", \"Beetroot\", \"Carrot\", \"Durain\", \"Jack Fruit\"]"
   ]
  },
  {
   "cell_type": "code",
   "execution_count": 30,
   "metadata": {},
   "outputs": [
    {
     "name": "stdout",
     "output_type": "stream",
     "text": [
      "['Apple', 'Amla', 'Banana', 'Beetroot', 'Carrot', 'Durain', 'Jack Fruit', 'Orange']\n"
     ]
    }
   ],
   "source": [
    "# List Methods\n",
    "fruits.append(\"Orange\")# Add an item at end\n",
    "print(fruits)"
   ]
  },
  {
   "cell_type": "code",
   "execution_count": 31,
   "metadata": {},
   "outputs": [
    {
     "name": "stdout",
     "output_type": "stream",
     "text": [
      "['Apple', 'Apricot', 'Amla', 'Banana', 'Beetroot', 'Carrot', 'Durain', 'Jack Fruit', 'Orange']\n"
     ]
    }
   ],
   "source": [
    "fruits.insert(1, \"Apricot\")# Add an item at certain index\n",
    "print(fruits)"
   ]
  },
  {
   "cell_type": "code",
   "execution_count": 32,
   "metadata": {},
   "outputs": [
    {
     "name": "stdout",
     "output_type": "stream",
     "text": [
      "['Apple', 'Apricot', 'Banana', 'Beetroot', 'Carrot', 'Durain', 'Jack Fruit', 'Orange']\n"
     ]
    }
   ],
   "source": [
    "fruits.remove(\"Amla\")# removes an item- removes the first occurance\n",
    "print(fruits)"
   ]
  },
  {
   "cell_type": "code",
   "execution_count": 33,
   "metadata": {},
   "outputs": [
    {
     "name": "stdout",
     "output_type": "stream",
     "text": [
      "Orange\n",
      "['Apple', 'Apricot', 'Banana', 'Beetroot', 'Carrot', 'Durain', 'Jack Fruit']\n"
     ]
    }
   ],
   "source": [
    "popped_fruits = fruits.pop()#Removes the last element and returns it\n",
    "print(popped_fruits)\n",
    "print(fruits)"
   ]
  },
  {
   "cell_type": "code",
   "execution_count": 35,
   "metadata": {},
   "outputs": [
    {
     "data": {
      "text/plain": [
       "4"
      ]
     },
     "execution_count": 35,
     "metadata": {},
     "output_type": "execute_result"
    }
   ],
   "source": [
    "fruits.index(\"Carrot\")# Returns the index"
   ]
  },
  {
   "cell_type": "code",
   "execution_count": 36,
   "metadata": {},
   "outputs": [
    {
     "data": {
      "text/plain": [
       "2"
      ]
     },
     "execution_count": 36,
     "metadata": {},
     "output_type": "execute_result"
    }
   ],
   "source": [
    "fruits.insert(2, \"Banana\")\n",
    "fruits.count(\"Banana\")"
   ]
  },
  {
   "cell_type": "code",
   "execution_count": 37,
   "metadata": {},
   "outputs": [
    {
     "name": "stdout",
     "output_type": "stream",
     "text": [
      "['Apple', 'Apricot', 'Banana', 'Banana', 'Beetroot', 'Carrot', 'Durain', 'Jack Fruit']\n"
     ]
    }
   ],
   "source": [
    "fruits.sort()# Sort the list in ascending order\n",
    "print(fruits)"
   ]
  },
  {
   "cell_type": "code",
   "execution_count": 40,
   "metadata": {},
   "outputs": [
    {
     "name": "stdout",
     "output_type": "stream",
     "text": [
      "['Jack Fruit', 'Durain', 'Carrot', 'Beetroot', 'Banana', 'Banana', 'Apricot', 'Apple']\n"
     ]
    }
   ],
   "source": [
    "fruits.reverse()# it reverses the all items\n",
    "print(fruits)"
   ]
  },
  {
   "cell_type": "code",
   "execution_count": 41,
   "metadata": {},
   "outputs": [
    {
     "name": "stdout",
     "output_type": "stream",
     "text": [
      "[]\n"
     ]
    }
   ],
   "source": [
    "fruits.clear() # Removes all items from the lis\n",
    "print(fruits)"
   ]
  },
  {
   "cell_type": "code",
   "execution_count": null,
   "metadata": {},
   "outputs": [],
   "source": []
  },
  {
   "cell_type": "code",
   "execution_count": null,
   "metadata": {},
   "outputs": [],
   "source": []
  },
  {
   "cell_type": "code",
   "execution_count": null,
   "metadata": {},
   "outputs": [],
   "source": []
  },
  {
   "cell_type": "code",
   "execution_count": null,
   "metadata": {},
   "outputs": [],
   "source": [
    "\n",
    "\n"
   ]
  }
 ],
 "metadata": {
  "kernelspec": {
   "display_name": "Python 3",
   "language": "python",
   "name": "python3"
  },
  "language_info": {
   "codemirror_mode": {
    "name": "ipython",
    "version": 3
   },
   "file_extension": ".py",
   "mimetype": "text/x-python",
   "name": "python",
   "nbconvert_exporter": "python",
   "pygments_lexer": "ipython3",
   "version": "3.10.0"
  }
 },
 "nbformat": 4,
 "nbformat_minor": 2
}
