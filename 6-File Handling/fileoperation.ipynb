{
 "cells": [
  {
   "cell_type": "markdown",
   "metadata": {},
   "source": [
    "#### File Operation- Read and Write Files\n",
    "\n",
    "File handling is a crucial part of any programming language. Python provides built-in functions and methods to read from and write to files, both text and binary. This lesson will cover the basics of file handling, including reading and writing text files and binary files."
   ]
  },
  {
   "cell_type": "code",
   "execution_count": 2,
   "metadata": {},
   "outputs": [
    {
     "name": "stdout",
     "output_type": "stream",
     "text": [
      "Hi Guys this is Prasanna Maddala preparing for Data Science and Data Analysis\n",
      "This Python course covers basics that are required for DS, DA and ML\n",
      "Welcome to the course\n",
      "Lets become threat to AI\n",
      "Hello\n",
      "World\n",
      "By Humans\n"
     ]
    }
   ],
   "source": [
    "## Read a Whole File\n",
    "\n",
    "with open('example.txt', 'r') as file:\n",
    "    content = file.read() #reads entire content of the file\n",
    "    print(content)\n",
    "\n"
   ]
  },
  {
   "cell_type": "code",
   "execution_count": 4,
   "metadata": {},
   "outputs": [
    {
     "name": "stdout",
     "output_type": "stream",
     "text": [
      "Hi Guys this is Prasanna Maddala preparing for Data Science and Data Analysis\n",
      "This Python course covers basics that are required for DS, DA and ML\n",
      "Welcome to the course\n",
      "Lets become threat to AI\n",
      "Hello\n",
      "World\n",
      "By Humans\n"
     ]
    }
   ],
   "source": [
    "## Read a file line by line\n",
    "\n",
    "with open('example.txt', 'r') as file:\n",
    "    for line in file:\n",
    "        print(line.strip()) ## removes new line character"
   ]
  },
  {
   "cell_type": "code",
   "execution_count": null,
   "metadata": {},
   "outputs": [],
   "source": []
  }
 ],
 "metadata": {
  "kernelspec": {
   "display_name": "Python 3",
   "language": "python",
   "name": "python3"
  },
  "language_info": {
   "codemirror_mode": {
    "name": "ipython",
    "version": 3
   },
   "file_extension": ".py",
   "mimetype": "text/x-python",
   "name": "python",
   "nbconvert_exporter": "python",
   "pygments_lexer": "ipython3",
   "version": "3.10.0"
  }
 },
 "nbformat": 4,
 "nbformat_minor": 2
}
