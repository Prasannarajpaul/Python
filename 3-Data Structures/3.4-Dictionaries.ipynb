{
 "cells": [
  {
   "cell_type": "markdown",
   "metadata": {},
   "source": [
    "Dictionaries are unordered collections of items. They store data in key-value pairs. Keys must be unique and immutable (e.g., strings, numbers, or tuples), while values can be of any type\n"
   ]
  },
  {
   "cell_type": "code",
   "execution_count": 1,
   "metadata": {},
   "outputs": [
    {
     "name": "stdout",
     "output_type": "stream",
     "text": [
      "<class 'dict'>\n"
     ]
    }
   ],
   "source": [
    "## Creating Dictionaries\n",
    "empty_dict = {}\n",
    "print(type(empty_dict))"
   ]
  },
  {
   "cell_type": "code",
   "execution_count": 2,
   "metadata": {},
   "outputs": [
    {
     "name": "stdout",
     "output_type": "stream",
     "text": [
      "<class 'dict'>\n"
     ]
    }
   ],
   "source": [
    "empty_dict = dict()\n",
    "print(type(empty_dict))"
   ]
  },
  {
   "cell_type": "code",
   "execution_count": 3,
   "metadata": {},
   "outputs": [
    {
     "name": "stdout",
     "output_type": "stream",
     "text": [
      "{'name': 'Prasanna', 'age': 32, 'grade': 24}\n"
     ]
    }
   ],
   "source": [
    "student = {\"name\": \"Prasanna\", \"age\": 32, \"grade\": 24}\n",
    "print(student)"
   ]
  },
  {
   "cell_type": "code",
   "execution_count": 5,
   "metadata": {},
   "outputs": [
    {
     "name": "stdout",
     "output_type": "stream",
     "text": [
      "{'name': 'Gayathri', 'age': 32, 'grade': 24}\n"
     ]
    }
   ],
   "source": [
    "## Keys should be unique else\n",
    "student = {\"name\": \"Prasanna\", \"age\": 32, \"grade\": 24, \"name\": \"Gayathri\"}\n",
    "print(student)"
   ]
  },
  {
   "cell_type": "code",
   "execution_count": 6,
   "metadata": {},
   "outputs": [
    {
     "name": "stdout",
     "output_type": "stream",
     "text": [
      "Gayathri\n",
      "32\n",
      "24\n"
     ]
    }
   ],
   "source": [
    "## Accessing Dictionary Elements - Method-1\n",
    "print(student['name'])\n",
    "print(student['age'])\n",
    "print(student['grade'])"
   ]
  },
  {
   "cell_type": "code",
   "execution_count": 7,
   "metadata": {},
   "outputs": [
    {
     "name": "stdout",
     "output_type": "stream",
     "text": [
      "24\n",
      "None\n"
     ]
    }
   ],
   "source": [
    "## Method-2\n",
    "print(student.get('grade'))\n",
    "print(student.get('lastname')) # if no value then it returns None"
   ]
  },
  {
   "cell_type": "code",
   "execution_count": 8,
   "metadata": {},
   "outputs": [
    {
     "name": "stdout",
     "output_type": "stream",
     "text": [
      "Not Available\n"
     ]
    }
   ],
   "source": [
    "\n",
    "print(student.get('last_name', \"Not Available\"))\n"
   ]
  },
  {
   "cell_type": "code",
   "execution_count": 3,
   "metadata": {},
   "outputs": [
    {
     "name": "stdout",
     "output_type": "stream",
     "text": [
      "{'name': 'Prasanna', 'age': 32, 'grade': 24}\n",
      "{'name': 'Prasanna', 'age': 32, 'grade': 'A+'}\n",
      "{'name': 'Prasanna', 'age': 32, 'grade': 'A+', 'address': 'India'}\n",
      "{'name': 'Prasanna', 'age': 32, 'address': 'India'}\n"
     ]
    }
   ],
   "source": [
    "## Modifying Dictionary Elements\n",
    "## Dictionary are mutbale, so you can add, update or delete elements\n",
    "student = {\"name\": \"Prasanna\", \"age\": 32, \"grade\": 24}\n",
    "print(student)\n",
    "## updating\n",
    "student[\"grade\"] = \"A+\"\n",
    "print(student)\n",
    "## adding\n",
    "student[\"address\"] = \"India\"\n",
    "print(student)\n",
    "## deleting\n",
    "del student['grade']\n",
    "print(student)\n"
   ]
  },
  {
   "cell_type": "code",
   "execution_count": 4,
   "metadata": {},
   "outputs": [
    {
     "name": "stdout",
     "output_type": "stream",
     "text": [
      "dict_keys(['name', 'age', 'address'])\n",
      "dict_values(['Prasanna', 32, 'India'])\n",
      "dict_items([('name', 'Prasanna'), ('age', 32), ('address', 'India')])\n"
     ]
    }
   ],
   "source": [
    "## Dictionary Methods\n",
    "\n",
    "# Keys and Keys\n",
    "keys = student.keys()\n",
    "print(keys)\n",
    "values = student.values()\n",
    "print(values)\n",
    "\n",
    "items = student.items() # List of tuples of all key-value pairs\n",
    "print(items)"
   ]
  },
  {
   "cell_type": "code",
   "execution_count": 5,
   "metadata": {},
   "outputs": [
    {
     "name": "stdout",
     "output_type": "stream",
     "text": [
      "{'name': 'Prasanna', 'age': 32, 'address': 'India'}\n",
      "{'name': 'Prasanna', 'age': 32, 'address': 'India'}\n",
      "{'name': 'Gayathri', 'age': 32, 'address': 'India'}\n",
      "{'name': 'Gayathri', 'age': 32, 'address': 'India'}\n"
     ]
    }
   ],
   "source": [
    "## Shallow copy\n",
    "student_copy = student\n",
    "print(student)\n",
    "print(student_copy)\n",
    "\n",
    "student['name'] = \"Gayathri\"\n",
    "print(student)\n",
    "print(student_copy)\n",
    "# student and student_copy key values are changed\n"
   ]
  },
  {
   "cell_type": "code",
   "execution_count": 6,
   "metadata": {},
   "outputs": [
    {
     "name": "stdout",
     "output_type": "stream",
     "text": [
      "{'name': 'Gayathri', 'age': 32, 'address': 'India'}\n",
      "{'name': 'Gayathri', 'age': 32, 'address': 'India'}\n",
      "{'name': 'Prasanna', 'age': 32, 'address': 'India'}\n",
      "{'name': 'Gayathri', 'age': 32, 'address': 'India'}\n"
     ]
    }
   ],
   "source": [
    "# To prevent this and exactly get the copy, we need to use shallow copy\n",
    "student_copy = student.copy() # Allocates new memory location\n",
    "print(student)\n",
    "print(student_copy)\n",
    "\n",
    "student['name'] = \"Prasanna\"\n",
    "print(student)\n",
    "print(student_copy)"
   ]
  },
  {
   "cell_type": "code",
   "execution_count": 7,
   "metadata": {},
   "outputs": [
    {
     "name": "stdout",
     "output_type": "stream",
     "text": [
      "name\n",
      "age\n",
      "address\n"
     ]
    }
   ],
   "source": [
    "### Iterating Over Dictionaries\n",
    "## You can use loops to iterare over dictionaries, keys, values or items\n",
    "\n",
    "## Iterating over keys\n",
    "for keys in student.keys():\n",
    "    print(keys)"
   ]
  },
  {
   "cell_type": "code",
   "execution_count": 10,
   "metadata": {},
   "outputs": [
    {
     "name": "stdout",
     "output_type": "stream",
     "text": [
      "Prasanna\n",
      "32\n",
      "India\n"
     ]
    }
   ],
   "source": [
    "## Iterate ove values\n",
    "for value in student.values():\n",
    "    print(value)"
   ]
  },
  {
   "cell_type": "code",
   "execution_count": 11,
   "metadata": {},
   "outputs": [
    {
     "name": "stdout",
     "output_type": "stream",
     "text": [
      "name: Prasanna\n",
      "age: 32\n",
      "address: India\n"
     ]
    }
   ],
   "source": [
    "## Iterate over key value pairs\n",
    "for key, value in student.items():\n",
    "    print(f\"{key}: {value}\")"
   ]
  },
  {
   "cell_type": "code",
   "execution_count": 13,
   "metadata": {},
   "outputs": [
    {
     "name": "stdout",
     "output_type": "stream",
     "text": [
      "{'student1': {'name': 'Prasanna', 'age': 32}, 'student2': {'name': 'Peter', 'age': 33}}\n"
     ]
    }
   ],
   "source": [
    "## Nested Dictionaries\n",
    "# In MongoDB everything is stored as key-value pairs\n",
    "\n",
    "students={\n",
    "    \"student1\":{\"name\":\"Prasanna\", \"age\":32},\n",
    "    \"student2\":{\"name\":\"Peter\", \"age\":33}\n",
    "}\n",
    "print(students)"
   ]
  },
  {
   "cell_type": "code",
   "execution_count": 14,
   "metadata": {},
   "outputs": [
    {
     "name": "stdout",
     "output_type": "stream",
     "text": [
      "Peter\n",
      "33\n"
     ]
    }
   ],
   "source": [
    "## Access nested Dictionaries\n",
    "print(students[\"student2\"][\"name\"])\n",
    "print(students[\"student2\"][\"age\"])"
   ]
  },
  {
   "cell_type": "code",
   "execution_count": 16,
   "metadata": {},
   "outputs": [
    {
     "name": "stdout",
     "output_type": "stream",
     "text": [
      "student1: {'name': 'Prasanna', 'age': 32}\n",
      "name: Prasanna\n",
      "age: 32\n",
      "student2: {'name': 'Peter', 'age': 33}\n",
      "name: Peter\n",
      "age: 33\n"
     ]
    }
   ],
   "source": [
    "## Iterating over nested Dictionaries\n",
    "for student_id, student_info in students.items():\n",
    "    print(f\"{student_id}: {student_info}\")\n",
    "    for key, value in student_info.items():\n",
    "        print(f\"{key}: {value}\")"
   ]
  },
  {
   "cell_type": "code",
   "execution_count": 17,
   "metadata": {},
   "outputs": [
    {
     "name": "stdout",
     "output_type": "stream",
     "text": [
      "{0: 0, 1: 1, 2: 4, 3: 9, 4: 16, 5: 25, 6: 36, 7: 49, 8: 64, 9: 81}\n"
     ]
    }
   ],
   "source": [
    "## Dictionary Comprehension\n",
    "squares={x:x**2 for x in range(10)}\n",
    "print(squares)"
   ]
  },
  {
   "cell_type": "code",
   "execution_count": 18,
   "metadata": {},
   "outputs": [
    {
     "name": "stdout",
     "output_type": "stream",
     "text": [
      "{0: 0, 2: 4, 4: 16, 6: 36, 8: 64}\n"
     ]
    }
   ],
   "source": [
    "## Conditional Dictionary Comprehension\n",
    "even={x:x**2 for x in range(10) if x%2==0}\n",
    "print(even)"
   ]
  },
  {
   "cell_type": "code",
   "execution_count": 21,
   "metadata": {},
   "outputs": [
    {
     "name": "stdout",
     "output_type": "stream",
     "text": [
      "{1: 1, 2: 2, 3: 3, 4: 4}\n"
     ]
    }
   ],
   "source": [
    "## Practical Examples\n",
    "# Use a dictionary to count the frequency of elements in list\n",
    "\n",
    "numbers = [1, 2, 2, 3, 3, 3, 4, 4, 4, 4]\n",
    "frequency = {}\n",
    "\n",
    "for number in numbers:\n",
    "    if number in frequency:\n",
    "        frequency[number]+=1\n",
    "    else:\n",
    "        frequency[number]=1\n",
    "print(frequency)"
   ]
  },
  {
   "cell_type": "code",
   "execution_count": 1,
   "metadata": {},
   "outputs": [
    {
     "name": "stdout",
     "output_type": "stream",
     "text": [
      "{'a': 1, 'b': 3, 'c': 4}\n"
     ]
    }
   ],
   "source": [
    "## Merge 2 Dictionaires into one\n",
    "dict1={\"a\":1, \"b\":2}\n",
    "dict2={\"b\":3, \"c\":4}\n",
    "merge_dict={**dict1, **dict2}\n",
    "print(merge_dict) #Key word arguments"
   ]
  },
  {
   "cell_type": "code",
   "execution_count": null,
   "metadata": {},
   "outputs": [],
   "source": []
  },
  {
   "cell_type": "code",
   "execution_count": null,
   "metadata": {},
   "outputs": [],
   "source": []
  },
  {
   "cell_type": "code",
   "execution_count": null,
   "metadata": {},
   "outputs": [],
   "source": []
  },
  {
   "cell_type": "code",
   "execution_count": null,
   "metadata": {},
   "outputs": [],
   "source": []
  },
  {
   "cell_type": "code",
   "execution_count": null,
   "metadata": {},
   "outputs": [],
   "source": []
  },
  {
   "cell_type": "code",
   "execution_count": null,
   "metadata": {},
   "outputs": [],
   "source": []
  },
  {
   "cell_type": "code",
   "execution_count": null,
   "metadata": {},
   "outputs": [],
   "source": []
  }
 ],
 "metadata": {
  "kernelspec": {
   "display_name": "venv",
   "language": "python",
   "name": "python3"
  },
  "language_info": {
   "codemirror_mode": {
    "name": "ipython",
    "version": 3
   },
   "file_extension": ".py",
   "mimetype": "text/x-python",
   "name": "python",
   "nbconvert_exporter": "python",
   "pygments_lexer": "ipython3",
   "version": "3.12.0"
  }
 },
 "nbformat": 4,
 "nbformat_minor": 2
}
