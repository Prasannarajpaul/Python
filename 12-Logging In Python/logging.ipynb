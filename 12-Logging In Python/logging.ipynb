{
 "cells": [
  {
   "cell_type": "markdown",
   "metadata": {},
   "source": [
    "#### Python Logging\n",
    "\n",
    "Logging is a crucial aspect of any application, providing a way to track events, errors, and operational information. Python's built-in logging module offers a flexible framework for emiting log messages from Python Programs. In this lesson, we will cover the basics of the logging, including how to configure logging, log levels, and best practices for using logging in Python applications."
   ]
  },
  {
   "cell_type": "code",
   "execution_count": 2,
   "metadata": {},
   "outputs": [
    {
     "name": "stderr",
     "output_type": "stream",
     "text": [
      "DEBUG:root:This is a debug message\n",
      "INFO:root:This is an info\n",
      "WARNING:root:This is a wraning message\n",
      "ERROR:root:This is a error message\n",
      "CRITICAL:root:This is a critical message\n"
     ]
    }
   ],
   "source": [
    "import logging\n",
    "\n",
    "## Configure the basic logging settings\n",
    "logging.basicConfig(level=logging.DEBUG) \n",
    "\n",
    "## log messages with different severity levels\n",
    "logging.debug(\"This is a debug message\")\n",
    "logging.info(\"This is an info\")\n",
    "logging.warning(\"This is a wraning message\")\n",
    "logging.error(\"This is a error message\")\n",
    "logging.critical(\"This is a critical message\")\n"
   ]
  },
  {
   "cell_type": "markdown",
   "metadata": {},
   "source": [
    "#### Log levels\n",
    "\n",
    "Python's logging module has several log levels indicating the severity of the events. The default levels are:\n",
    "- DEBUG: Detailed information, typically of interest only when diagnosing problems.\n",
    "- INFO: Confirmation that things are working as expected.\n",
    "- WARNING: An indication that something unexpected happended or indicative of some problem in the near future(e.d., 'disk space low'). The software is still working as expected.\n",
    "- ERROR: Due to more serious problem, the software has not been able to perform some function.\n",
    "- CRITICAL: A very serious error, indicating that the program itself may be unable to continue running."
   ]
  },
  {
   "cell_type": "code",
   "execution_count": 1,
   "metadata": {},
   "outputs": [],
   "source": [
    "import logging\n",
    "\n",
    "## Configuring logging setting - kernel need to be restarted inorder update the config\n",
    "logging.basicConfig(\n",
    "    filename='app.log',\n",
    "    filemode='w',\n",
    "    level = logging.DEBUG,\n",
    "    format = '%(asctime)s-%(name)s-%(levelname)s-%(message)s',\n",
    "    datefmt='%Y-%m-%d %H:%M:%S'\n",
    ")\n",
    "\n",
    "## log messages with different severity levels\n",
    "logging.debug(\"This is a debug message\")\n",
    "logging.info(\"This is an info\")\n",
    "logging.warning(\"This is a wraning message\")\n",
    "logging.error(\"This is a error message\")\n",
    "logging.critical(\"This is a critical message\")\n"
   ]
  },
  {
   "cell_type": "code",
   "execution_count": 2,
   "metadata": {},
   "outputs": [],
   "source": [
    "## adding more messages\n",
    "logging.debug(\"This is a debug message\")\n",
    "logging.info(\"This is an info\")\n",
    "logging.warning(\"This is a wraning message\")\n",
    "logging.error(\"This is a error message\")\n",
    "logging.critical(\"This is a critical message\")"
   ]
  },
  {
   "cell_type": "code",
   "execution_count": null,
   "metadata": {},
   "outputs": [],
   "source": []
  },
  {
   "cell_type": "code",
   "execution_count": null,
   "metadata": {},
   "outputs": [],
   "source": []
  },
  {
   "cell_type": "code",
   "execution_count": null,
   "metadata": {},
   "outputs": [],
   "source": []
  }
 ],
 "metadata": {
  "kernelspec": {
   "display_name": "venv",
   "language": "python",
   "name": "python3"
  },
  "language_info": {
   "codemirror_mode": {
    "name": "ipython",
    "version": 3
   },
   "file_extension": ".py",
   "mimetype": "text/x-python",
   "name": "python",
   "nbconvert_exporter": "python",
   "pygments_lexer": "ipython3",
   "version": "3.12.0"
  }
 },
 "nbformat": 4,
 "nbformat_minor": 2
}
