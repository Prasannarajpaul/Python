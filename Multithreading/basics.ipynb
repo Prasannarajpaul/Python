{
 "cells": [
  {
   "cell_type": "markdown",
   "metadata": {},
   "source": [
    "- Program\n",
    "- Process\n",
    "- Threads\n",
    "- Examples of Process and Thread"
   ]
  },
  {
   "cell_type": "markdown",
   "metadata": {},
   "source": [
    "#### Program\n",
    "A program is a sequence of Instructions written in Programming Language [eg: Python, C++]\n",
    "\n",
    "Eg: Google Chrome is a .exe file\n",
    "    .exe is a program we write how a browser should work\n",
    "Eg: Word, Excel are different Programs"
   ]
  },
  {
   "cell_type": "markdown",
   "metadata": {},
   "source": [
    "#### Process\n",
    "\n",
    "A process is simple an instance of a program that is being executed\n",
    "\n",
    "Eg: If I open Google Chrome, it opens which is an instance of executing the program\n",
    "\n",
    "- Process works along with OS as it requires a lot of computer resources, those resources will be shared. Some of the resources are \n",
    "\n",
    " Code Segment | Data Segment | Heap \n",
    " :--: | :--: | :--: \n",
    " Stack | Register | Register \n",
    "\n",
    "##### Separate Memory Space\n",
    "When we run a process, it will have a separate memory space.\n",
    "one process cannot currupt another process, because every (process will have separate memory space for its running)\n",
    "##### I/O Requirements\n",
    "If the process requires some input or output then it makes the execution time increases to switch between processes\n",
    "\n",
    "Example:\n",
    "Excel -> opens -> process will start with an ID\n",
    "Chrome -> opens -> process will start with an ID\n",
    "\n",
    "We can see current running process in task manager\n"
   ]
  },
  {
   "cell_type": "markdown",
   "metadata": {},
   "source": [
    "#### Thread\n"
   ]
  }
 ],
 "metadata": {
  "kernelspec": {
   "display_name": "venv",
   "language": "python",
   "name": "python3"
  },
  "language_info": {
   "name": "python",
   "version": "3.12.0"
  }
 },
 "nbformat": 4,
 "nbformat_minor": 2
}
