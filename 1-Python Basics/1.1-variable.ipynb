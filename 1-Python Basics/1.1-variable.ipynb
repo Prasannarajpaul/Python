{
 "cells": [
  {
   "cell_type": "code",
   "execution_count": 1,
   "metadata": {},
   "outputs": [],
   "source": [
    "##variable\n",
    "a=100"
   ]
  },
  {
   "cell_type": "code",
   "execution_count": 2,
   "metadata": {},
   "outputs": [
    {
     "name": "stdout",
     "output_type": "stream",
     "text": [
      "age : 23\n",
      "Height:  5.7\n",
      "Name:  Prasanna\n",
      "Learner:  True\n"
     ]
    }
   ],
   "source": [
    "## Declaring and Assigning Values\n",
    "age=23\n",
    "height=5.7\n",
    "name=\"Prasanna\"\n",
    "is_learner=True\n",
    "\n",
    "##printing the variables\n",
    "print(\"age :\", age)\n",
    "print('Height: ', height)\n",
    "print(\"Name: \", name)\n",
    "print(\"Learner: \", is_learner)"
   ]
  },
  {
   "cell_type": "code",
   "execution_count": null,
   "metadata": {},
   "outputs": [],
   "source": [
    "## Naming Conventions\n",
    "# Varibale name should be descriptive\n",
    "# They must always start with a letter or underscore\n",
    "# It can contain letters numbers and underscores\n",
    "# Variable names are case sensitive\n",
    "\n",
    "# Valid Variable Names\n",
    "\n",
    "first_name=\"Prasanna\"\n",
    "last_name=\"Maddala\"\n"
   ]
  },
  {
   "cell_type": "code",
   "execution_count": null,
   "metadata": {},
   "outputs": [],
   "source": [
    "## Invalid Varianble names\n",
    "# 2age=30\n",
    "# first-name=\"Prasanna\"\n",
    "# @name = \"Prasanna\""
   ]
  },
  {
   "cell_type": "code",
   "execution_count": null,
   "metadata": {},
   "outputs": [],
   "source": [
    "## Case sensitivity\n",
    "name=\"Prasanna\"\n",
    "Name=\"Maddala\""
   ]
  },
  {
   "cell_type": "code",
   "execution_count": 3,
   "metadata": {},
   "outputs": [
    {
     "name": "stdout",
     "output_type": "stream",
     "text": [
      "<class 'int'> <class 'float'> <class 'str'> <class 'bool'>\n"
     ]
    }
   ],
   "source": [
    "## Variable Types\n",
    "# Python is Dynamically Typed, type of variable is determined at runtime\n",
    "age=25#int\n",
    "height=5.7#float\n",
    "name=\"Prasanna\"#str\n",
    "is_learner=True#bool\n",
    "print(type(age), type(height), type(name), type(is_learner))"
   ]
  },
  {
   "cell_type": "code",
   "execution_count": 12,
   "metadata": {},
   "outputs": [
    {
     "name": "stdout",
     "output_type": "stream",
     "text": [
      "<class 'int'>\n",
      "<class 'float'>\n",
      "<class 'str'>\n",
      "<class 'int'>\n"
     ]
    }
   ],
   "source": [
    "## Type checking and Conversion\n",
    "age=25\n",
    "print(type(age))\n",
    "age=25.5\n",
    "print(type(age))\n",
    "age='25'\n",
    "print(type(age))\n",
    "\n",
    "#Converting\n",
    "print(type(int(age)))\n"
   ]
  },
  {
   "cell_type": "code",
   "execution_count": 13,
   "metadata": {},
   "outputs": [
    {
     "name": "stdout",
     "output_type": "stream",
     "text": [
      "10 <class 'int'>\n",
      "Hello <class 'str'>\n",
      "3.143 <class 'float'>\n"
     ]
    }
   ],
   "source": [
    "## Dynamic Typing\n",
    "var=10\n",
    "print(var, type(var))\n",
    "#Python allows the type of a variable to change as the program executes \n",
    "\n",
    "var=\"Hello\"\n",
    "print(var, type(var))\n",
    "\n",
    "var=3.143\n",
    "print(var, type(var))\n"
   ]
  },
  {
   "cell_type": "code",
   "execution_count": 16,
   "metadata": {},
   "outputs": [
    {
     "name": "stdout",
     "output_type": "stream",
     "text": [
      "22 <class 'int'>\n"
     ]
    }
   ],
   "source": [
    "## input\n",
    "age = int(input(\"What is the age: \"))\n",
    "print(age, type(age))"
   ]
  },
  {
   "cell_type": "code",
   "execution_count": 17,
   "metadata": {},
   "outputs": [
    {
     "name": "stdout",
     "output_type": "stream",
     "text": [
      "Sum:  30.0\n",
      "Difference:  -10.0\n",
      "Product:  200.0\n",
      "Quotient:  10.0\n"
     ]
    }
   ],
   "source": [
    "## Simple Calculator\n",
    "num1=float(input(\"Enter the First Number: \"))\n",
    "num2=float(input(\"Enter the Second Number: \"))\n",
    "sum=num1+num2\n",
    "difference=num1-num2\n",
    "product = num1*num2\n",
    "quotient=num1%num2\n",
    "print(\"Sum: \", sum)\n",
    "print(\"Difference: \", difference)\n",
    "print(\"Product: \", product)\n",
    "print(\"Quotient: \", quotient)"
   ]
  }
 ],
 "metadata": {
  "kernelspec": {
   "display_name": "Python 3",
   "language": "python",
   "name": "python3"
  },
  "language_info": {
   "codemirror_mode": {
    "name": "ipython",
    "version": 3
   },
   "file_extension": ".py",
   "mimetype": "text/x-python",
   "name": "python",
   "nbconvert_exporter": "python",
   "pygments_lexer": "ipython3",
   "version": "3.10.0"
  }
 },
 "nbformat": 4,
 "nbformat_minor": 2
}
