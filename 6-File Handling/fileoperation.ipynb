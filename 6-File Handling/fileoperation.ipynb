{
 "cells": [
  {
   "cell_type": "markdown",
   "metadata": {},
   "source": [
    "#### File Operation- Read and Write Files\n",
    "\n",
    "File handling is a crucial part of any programming language. Python provides built-in functions and methods to read from and write to files, both text and binary. This lesson will cover the basics of file handling, including reading and writing text files and binary files."
   ]
  },
  {
   "cell_type": "code",
   "execution_count": 2,
   "metadata": {},
   "outputs": [
    {
     "name": "stdout",
     "output_type": "stream",
     "text": [
      "Hi Guys this is Prasanna Maddala preparing for Data Science and Data Analysis\n",
      "This Python course covers basics that are required for DS, DA and ML\n",
      "Welcome to the course\n",
      "Lets become threat to AI\n",
      "Hello\n",
      "World\n",
      "By Humans\n"
     ]
    }
   ],
   "source": [
    "## Read a Whole File\n",
    "\n",
    "with open('example.txt', 'r') as file:\n",
    "    content = file.read() #reads entire content of the file\n",
    "    print(content)\n",
    "\n"
   ]
  },
  {
   "cell_type": "code",
   "execution_count": 4,
   "metadata": {},
   "outputs": [
    {
     "name": "stdout",
     "output_type": "stream",
     "text": [
      "Hi Guys this is Prasanna Maddala preparing for Data Science and Data Analysis\n",
      "This Python course covers basics that are required for DS, DA and ML\n",
      "Welcome to the course\n",
      "Lets become threat to AI\n",
      "Hello\n",
      "World\n",
      "By Humans\n"
     ]
    }
   ],
   "source": [
    "## Read a file line by line\n",
    "\n",
    "with open('example.txt', 'r') as file:\n",
    "    for line in file:\n",
    "        print(line.strip()) ## removes new line character"
   ]
  },
  {
   "cell_type": "code",
   "execution_count": 7,
   "metadata": {},
   "outputs": [],
   "source": [
    "## Writing a file (Over writing)\n",
    "\n",
    "with open('example.txt', 'w') as file:\n",
    "    file.write('Hello World\\n')\n",
    "    file.write('This is a new line')\n",
    "\n"
   ]
  },
  {
   "cell_type": "code",
   "execution_count": null,
   "metadata": {},
   "outputs": [],
   "source": [
    "## Writing back previous content for previous content\n",
    "with open('example.txt', 'w') as file:\n",
    "    file.write(content)"
   ]
  },
  {
   "cell_type": "code",
   "execution_count": 10,
   "metadata": {},
   "outputs": [],
   "source": [
    "## Write a file without Over writing\n",
    "with open('example.txt', 'a') as file:\n",
    "    file.write('Appended new line\\n')\n",
    "    file.write('This is a new line')\n",
    "\n"
   ]
  },
  {
   "cell_type": "code",
   "execution_count": 11,
   "metadata": {},
   "outputs": [],
   "source": [
    "## Writing a list of lines to a file\n",
    "lines = ['First Line\\n', 'Second Line\\n', 'Third Line\\n', 'Fourth Line\\n', 'Fifth Line\\n', 'Sixth Line\\n', 'Seventh Line\\n']\n",
    "with open('example.txt', 'a') as file:\n",
    "    file.writelines(lines)"
   ]
  },
  {
   "cell_type": "code",
   "execution_count": null,
   "metadata": {},
   "outputs": [],
   "source": [
    "## Binary Files\n",
    "## In binary file we use bytes\n",
    "data = b'\\x00\\x01\\x02\\x03\\x04'\n",
    "with open('example.bin','wb') as file: #write byte or read byte\n",
    "    file.write(data)"
   ]
  },
  {
   "cell_type": "code",
   "execution_count": 13,
   "metadata": {},
   "outputs": [
    {
     "name": "stdout",
     "output_type": "stream",
     "text": [
      "b'\\x00\\x01\\x02\\x03\\x04'\n"
     ]
    }
   ],
   "source": [
    "with open('example.bin','rb') as file: #write byte or read byte\n",
    "    content_binary = file.read()\n",
    "    print(content_binary)"
   ]
  },
  {
   "cell_type": "code",
   "execution_count": 14,
   "metadata": {},
   "outputs": [],
   "source": [
    "### Read the content from a source file and write it into a destination file\n",
    "\n",
    "with open('example.txt','r') as source_file: #write byte or read byte\n",
    "    content = source_file.read()\n",
    "\n",
    "with open('destination.txt', 'w') as destination_file:\n",
    "    destination_file.write(content)"
   ]
  },
  {
   "cell_type": "code",
   "execution_count": 16,
   "metadata": {},
   "outputs": [],
   "source": [
    "## Read a text file and count the number of lines, words and characters\n",
    "## Counting lines, words, and the characters in a text file\n",
    "def count_text_file(file_path):\n",
    "    with open(file_path, 'r') as file:\n",
    "        lines = file.readlines()\n",
    "        line_count = len(lines)\n",
    "        word_count = sum(len(line.split()) for line in lines)\n",
    "        char_count = sum(len(line) for line in lines)\n",
    "    return line_count, word_count, char_count"
   ]
  },
  {
   "cell_type": "code",
   "execution_count": null,
   "metadata": {},
   "outputs": [
    {
     "name": "stdout",
     "output_type": "stream",
     "text": [
      "Lines: 14, Words: 59, Characters: 332\n"
     ]
    }
   ],
   "source": [
    "file_path = 'example.txt'\n",
    "lines, words, characters = count_text_file(file_path)\n",
    "print(f'Lines: {lines}, Words: {words}, Characters: {characters}')"
   ]
  },
  {
   "cell_type": "markdown",
   "metadata": {},
   "source": [
    "The __w+__ mode in Python is used to open a file for both reading and writing. If the file doesn't exist, it will be created. If the file exists, its content is truncated(i.e, the file is overwritten)"
   ]
  },
  {
   "cell_type": "code",
   "execution_count": 18,
   "metadata": {},
   "outputs": [
    {
     "name": "stdout",
     "output_type": "stream",
     "text": [
      "Hello Worlds\n",
      "This is a new line \n",
      "\n"
     ]
    }
   ],
   "source": [
    "## Writing and then Reading a File\n",
    "with open('text.txt', 'w+') as file:\n",
    "    file.write(\"Hello Worlds\\n\")\n",
    "    file.write(\"This is a new line \\n\")\n",
    "\n",
    "    # Move the cursor to the begining\n",
    "    file.seek(0)\n",
    "    \n",
    "    ## Read the content of the file\n",
    "    content = file.read()\n",
    "    print(content)\n"
   ]
  }
 ],
 "metadata": {
  "kernelspec": {
   "display_name": "Python 3",
   "language": "python",
   "name": "python3"
  },
  "language_info": {
   "codemirror_mode": {
    "name": "ipython",
    "version": 3
   },
   "file_extension": ".py",
   "mimetype": "text/x-python",
   "name": "python",
   "nbconvert_exporter": "python",
   "pygments_lexer": "ipython3",
   "version": "3.10.0"
  }
 },
 "nbformat": 4,
 "nbformat_minor": 2
}
