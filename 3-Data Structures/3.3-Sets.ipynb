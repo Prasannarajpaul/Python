{
 "cells": [
  {
   "cell_type": "markdown",
   "metadata": {},
   "source": [
    "#### Sets\n",
    "Sets are build-in data type inPython used to store collections of unique items. They are unordered, meaning that the elements do not follow a speccific order, and they do not allow duplicate elements.\n",
    "Sets are useful for membership tests, eliminating duplicate entries, and performing mathematical set operations like union, intersection, difference, and symmetric difference"
   ]
  },
  {
   "cell_type": "code",
   "execution_count": 2,
   "metadata": {},
   "outputs": [
    {
     "name": "stdout",
     "output_type": "stream",
     "text": [
      "{1, 2, 3, 4, 5}\n",
      "<class 'set'>\n"
     ]
    }
   ],
   "source": [
    "# create a set\n",
    "my_set = {1, 2, 3, 4, 5}\n",
    "print(my_set)\n",
    "print(type(my_set))"
   ]
  },
  {
   "cell_type": "code",
   "execution_count": 4,
   "metadata": {},
   "outputs": [
    {
     "name": "stdout",
     "output_type": "stream",
     "text": [
      "<class 'set'>\n",
      "{1, 2, 3, 4, 5}\n"
     ]
    }
   ],
   "source": [
    "my_empty_set = set()\n",
    "print(type(my_empty_set))\n",
    "my_empty_set = set([1, 2, 3, 4, 5])\n",
    "print(my_empty_set)"
   ]
  },
  {
   "cell_type": "code",
   "execution_count": 5,
   "metadata": {},
   "outputs": [
    {
     "name": "stdout",
     "output_type": "stream",
     "text": [
      "{1, 2, 3, 4, 5, 6}\n"
     ]
    }
   ],
   "source": [
    "my_empty_set = set([1, 2, 3, 5, 4, 6, 6, 5])\n",
    "print(my_empty_set)"
   ]
  },
  {
   "cell_type": "code",
   "execution_count": 8,
   "metadata": {},
   "outputs": [
    {
     "name": "stdout",
     "output_type": "stream",
     "text": [
      "{1, 2, 3, 4, 5, 7}\n",
      "{1, 2, 3, 4, 5, 6, 7}\n",
      "{1, 2, 3, 4, 5, 6, 7}\n"
     ]
    }
   ],
   "source": [
    "# Basic set operations\n",
    "# Addind and Removing elements\n",
    "\n",
    "my_set.add(7)\n",
    "print(my_set)\n",
    "my_set.add(6)\n",
    "print(my_set)\n",
    "my_set.add(7)\n",
    "print(my_set)"
   ]
  },
  {
   "cell_type": "code",
   "execution_count": 9,
   "metadata": {},
   "outputs": [
    {
     "name": "stdout",
     "output_type": "stream",
     "text": [
      "{1, 2, 4, 5, 6, 7}\n"
     ]
    }
   ],
   "source": [
    "# Removing set elements\n",
    "my_set.remove(3)\n",
    "print(my_set)"
   ]
  },
  {
   "cell_type": "code",
   "execution_count": 10,
   "metadata": {},
   "outputs": [
    {
     "ename": "KeyError",
     "evalue": "10",
     "output_type": "error",
     "traceback": [
      "\u001b[1;31m---------------------------------------------------------------------------\u001b[0m",
      "\u001b[1;31mKeyError\u001b[0m                                  Traceback (most recent call last)",
      "Input \u001b[1;32mIn [10]\u001b[0m, in \u001b[0;36m<module>\u001b[1;34m\u001b[0m\n\u001b[1;32m----> 1\u001b[0m \u001b[43mmy_set\u001b[49m\u001b[38;5;241;43m.\u001b[39;49m\u001b[43mremove\u001b[49m\u001b[43m(\u001b[49m\u001b[38;5;241;43m10\u001b[39;49m\u001b[43m)\u001b[49m\n\u001b[0;32m      2\u001b[0m \u001b[38;5;28mprint\u001b[39m(my_set)\n",
      "\u001b[1;31mKeyError\u001b[0m: 10"
     ]
    }
   ],
   "source": [
    "my_set.remove(10) # if ites not present in the set gives error\n",
    "print(my_set)"
   ]
  },
  {
   "cell_type": "code",
   "execution_count": 11,
   "metadata": {},
   "outputs": [
    {
     "name": "stdout",
     "output_type": "stream",
     "text": [
      "{1, 2, 4, 5, 6, 7}\n"
     ]
    }
   ],
   "source": [
    "my_set.discard(10)  # doesn't gives error\n",
    "print(my_set)"
   ]
  },
  {
   "cell_type": "code",
   "execution_count": 13,
   "metadata": {},
   "outputs": [
    {
     "name": "stdout",
     "output_type": "stream",
     "text": [
      "2\n",
      "{4, 5, 6, 7}\n"
     ]
    }
   ],
   "source": [
    "# Pop - removing random element\n",
    "removed_element = my_set.pop()\n",
    "print(removed_element)\n",
    "print(my_set)"
   ]
  },
  {
   "cell_type": "code",
   "execution_count": 14,
   "metadata": {},
   "outputs": [
    {
     "name": "stdout",
     "output_type": "stream",
     "text": [
      "4\n",
      "{5, 6, 7}\n"
     ]
    }
   ],
   "source": [
    "removed_element = my_set.pop()\n",
    "print(removed_element)\n",
    "print(my_set)"
   ]
  },
  {
   "cell_type": "code",
   "execution_count": 15,
   "metadata": {},
   "outputs": [
    {
     "name": "stdout",
     "output_type": "stream",
     "text": [
      "4\n",
      "{6, 7}\n"
     ]
    }
   ],
   "source": [
    "emoved_element = my_set.pop()\n",
    "print(removed_element)\n",
    "print(my_set)"
   ]
  },
  {
   "cell_type": "code",
   "execution_count": 16,
   "metadata": {},
   "outputs": [
    {
     "name": "stdout",
     "output_type": "stream",
     "text": [
      "set()\n"
     ]
    }
   ],
   "source": [
    "# Pop is following FIFO principle\n",
    "\n",
    "# To clear all set\n",
    "\n",
    "my_set.clear()\n",
    "print(my_set)"
   ]
  },
  {
   "cell_type": "code",
   "execution_count": 17,
   "metadata": {},
   "outputs": [
    {
     "name": "stdout",
     "output_type": "stream",
     "text": [
      "True\n",
      "False\n"
     ]
    }
   ],
   "source": [
    "# Set Membership Test\n",
    "my_set = {1, 2, 3, 4, 5}\n",
    "print(3 in my_set)\n",
    "print(10 in my_set)"
   ]
  },
  {
   "cell_type": "code",
   "execution_count": 27,
   "metadata": {},
   "outputs": [
    {
     "name": "stdout",
     "output_type": "stream",
     "text": [
      "{1, 2, 3, 4, 5, 6, 7, 8, 9}\n"
     ]
    }
   ],
   "source": [
    "## Mathematical Operations\n",
    "set1 = {1, 2, 3, 4, 5, 6, 7}\n",
    "set2 = {4, 5, 6, 7, 8, 9}\n",
    "\n",
    "## Union\n",
    "union_set = set1.union(set2)\n",
    "print(union_set)"
   ]
  },
  {
   "cell_type": "code",
   "execution_count": 19,
   "metadata": {},
   "outputs": [
    {
     "name": "stdout",
     "output_type": "stream",
     "text": [
      "{4, 5, 6, 7}\n"
     ]
    }
   ],
   "source": [
    "## Intersection\n",
    "intersection_set = set1.intersection(set2)\n",
    "print(intersection_set)"
   ]
  },
  {
   "cell_type": "code",
   "execution_count": 20,
   "metadata": {},
   "outputs": [
    {
     "name": "stdout",
     "output_type": "stream",
     "text": [
      "{4, 5, 6, 7}\n"
     ]
    }
   ],
   "source": [
    "## intersecion elements will be updated in set1\n",
    "set1.intersection_update(set2)\n",
    "print(set1)"
   ]
  },
  {
   "cell_type": "code",
   "execution_count": 24,
   "metadata": {},
   "outputs": [
    {
     "name": "stdout",
     "output_type": "stream",
     "text": [
      "{1, 2, 3}\n"
     ]
    }
   ],
   "source": [
    "set1 = {1, 2, 3, 4, 5, 6, 7}\n",
    "set2 = {4, 5, 6, 7, 8, 9}\n",
    "\n",
    "# Difference\n",
    "print(set1.difference(set2))\n"
   ]
  },
  {
   "cell_type": "code",
   "execution_count": 25,
   "metadata": {},
   "outputs": [
    {
     "name": "stdout",
     "output_type": "stream",
     "text": [
      "{1, 2, 3}\n"
     ]
    }
   ],
   "source": [
    "set1.difference_update(set2)\n",
    "print(set1)"
   ]
  },
  {
   "cell_type": "code",
   "execution_count": 29,
   "metadata": {},
   "outputs": [
    {
     "data": {
      "text/plain": [
       "{1, 2, 3, 8, 9}"
      ]
     },
     "execution_count": 29,
     "metadata": {},
     "output_type": "execute_result"
    }
   ],
   "source": [
    "# Symmentric Difference - unique elements in both sets are union and common elements are removed\n",
    "set1.symmetric_difference(set2)"
   ]
  },
  {
   "cell_type": "code",
   "execution_count": 36,
   "metadata": {},
   "outputs": [
    {
     "name": "stdout",
     "output_type": "stream",
     "text": [
      "False\n"
     ]
    }
   ],
   "source": [
    "## Set Methods\n",
    "set1 = {1, 2, 3, 4, 5}\n",
    "set2 = {3, 4, 5}\n",
    "\n",
    "## is subset - is all elements of set1 is present in set2\n",
    "print(set1.issubset(set2))"
   ]
  },
  {
   "cell_type": "code",
   "execution_count": 37,
   "metadata": {},
   "outputs": [
    {
     "name": "stdout",
     "output_type": "stream",
     "text": [
      "True\n"
     ]
    }
   ],
   "source": [
    "## is subset - is all elements of set2 is present in set1\n",
    "print(set1.issuperset(set2))"
   ]
  },
  {
   "cell_type": "code",
   "execution_count": 40,
   "metadata": {},
   "outputs": [
    {
     "name": "stdout",
     "output_type": "stream",
     "text": [
      "[1, 2, 3, 4, 5]\n"
     ]
    }
   ],
   "source": [
    "## removing all duplicates in list\n",
    "lst = [1, 2, 2, 3, 4, 4, 5]\n",
    "lst = list(set(lst))\n",
    "print(lst)"
   ]
  },
  {
   "cell_type": "code",
   "execution_count": 42,
   "metadata": {},
   "outputs": [
    {
     "name": "stdout",
     "output_type": "stream",
     "text": [
      "{'about', 'are', 'In', 'discussing', 'we', 'sets', 'this', 'tutorial'}\n",
      "8\n"
     ]
    }
   ],
   "source": [
    "## Counting unique words in text\n",
    "text = \"In this tutorial we are discussing about sets\"\n",
    "words = text.split()\n",
    "\n",
    "# Convert List of words to set to get unique words\n",
    "\n",
    "unique_words = set(words)\n",
    "print(unique_words)\n",
    "print(len(unique_words))\n"
   ]
  }
 ],
 "metadata": {
  "kernelspec": {
   "display_name": "Python 3",
   "language": "python",
   "name": "python3"
  },
  "language_info": {
   "codemirror_mode": {
    "name": "ipython",
    "version": 3
   },
   "file_extension": ".py",
   "mimetype": "text/x-python",
   "name": "python",
   "nbconvert_exporter": "python",
   "pygments_lexer": "ipython3",
   "version": "3.10.0"
  }
 },
 "nbformat": 4,
 "nbformat_minor": 2
}
